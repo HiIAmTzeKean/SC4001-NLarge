{
 "cells": [
  {
   "cell_type": "markdown",
   "metadata": {},
   "source": [
    "## Random Words Augmenter"
   ]
  },
  {
   "cell_type": "code",
   "execution_count": 63,
   "metadata": {},
   "outputs": [],
   "source": [
    "import random"
   ]
  },
  {
   "cell_type": "code",
   "execution_count": 64,
   "metadata": {},
   "outputs": [],
   "source": [
    "\"\"\"\n",
    "SUBSTITUTE: words are substituted randomly\n",
    "DELETE: words are removed randomly\n",
    "SWAP: adjacent words swapped randomly\n",
    "CROP: set of continuous words removed randomly\n",
    "\"\"\"\n",
    "\n",
    "class Action:\n",
    "    SUBSTITUTE = 'substitute'\n",
    "    DELETE = 'delete'\n",
    "    SWAP = 'swap'\n",
    "    CROP = 'crop'"
   ]
  },
  {
   "cell_type": "code",
   "execution_count": 68,
   "metadata": {},
   "outputs": [],
   "source": [
    "def random_augment(data, action, aug_percent=0.3, aug_min=1, aug_max=10, skipwords=None, target_words=None):\n",
    "    \"\"\"\n",
    "    Random text augmentation function.\n",
    "    \n",
    "    :param data: Input text to augment.\n",
    "    :param action: Action to perform ('substitute', 'delete', 'swap', or 'crop').\n",
    "    :param aug_percent: Percentage of words to augment.\n",
    "    :param aug_min: Minimum number of words to augment.\n",
    "    :param aug_max: Maximum number of words to augment.\n",
    "    :param skipwords: List of words to skip during augmentation.\n",
    "    :param target_words: List of words for replacement (only for 'substitute' action).\n",
    "    :return: Augmented text.\n",
    "    \"\"\"\n",
    "    if not data or not data.strip():\n",
    "        return data\n",
    "    original_sentence = data\n",
    "    words = data.split()\n",
    "    # calculate count of augmentation\n",
    "    aug_count = max(aug_min, int(len(words) * aug_percent))\n",
    "    aug_count = min(aug_count, aug_max, len(words))\n",
    "    target_words = target_words or ['_']\n",
    "    \n",
    "    # https://arxiv.org/pdf/1703.02573.pdf, https://arxiv.org/pdf/1712.06751.pdf, https://arxiv.org/pdf/1806.09030.pdf\n",
    "    # https://arxiv.org/pdf/1905.11268.pdf,\n",
    "    def substitute(words):\n",
    "        \"\"\"\n",
    "        Substitute selected words with random target words.\n",
    "        \"\"\"\n",
    "        change_seq = 0  # Track sequence of changes\n",
    "        aug_indices = random.sample(range(len(words)), aug_count)  # Randomly select indices to augment\n",
    "        aug_indices.sort(reverse=True)  # Process from the end to avoid index shifts\n",
    "\n",
    "        for idx in aug_indices:\n",
    "            original_token = words[idx]  # Original word at this position\n",
    "            # Skip if the word is in the skipwords list\n",
    "            if skipwords and original_token in skipwords:\n",
    "                continue\n",
    "            new_token = random.choice(target_words)  # Choose a replacement word from target_words\n",
    "            # Apply capitalization of the original token to the new token if necessary\n",
    "            if idx == 0:\n",
    "                new_token = original_token[0].upper() + new_token[1:] if original_token[0].isupper() else new_token\n",
    "            change_seq += 1  # Increment change sequence\n",
    "            words[idx] = new_token  # Replace the word\n",
    "\n",
    "        return words\n",
    "\n",
    "    # https://arxiv.org/pdf/1905.11268.pdf, https://arxiv.org/pdf/1809.02079.pdf, https://arxiv.org/pdf/1903.09460.pdf\n",
    "    def delete(words):\n",
    "        aug_indices = sorted(random.sample(range(len(words)), aug_count), reverse=True)\n",
    "        for idx in aug_indices:\n",
    "            if skipwords and words[idx] in skipwords:\n",
    "                continue\n",
    "            words.pop(idx)\n",
    "        return words\n",
    "\n",
    "    # https://arxiv.org/pdf/1711.02173.pdf, https://arxiv.org/pdf/1809.02079.pdf, https://arxiv.org/pdf/1903.09460.pdf\n",
    "    def swap(words):\n",
    "        \"\"\"\n",
    "        Swap selected words with adjacent words.\n",
    "        \"\"\"\n",
    "        change_seq = 0  # Track sequence of changes\n",
    "        aug_indices = random.sample(range(len(words) - 1), aug_count)  # Randomly select indices to augment\n",
    "        aug_indices.sort(reverse=True)  # Process from the end to avoid index shifts\n",
    "\n",
    "        for idx in aug_indices:\n",
    "            # Ensure swapping does not include skipwords\n",
    "            if skipwords and (words[idx] in skipwords or words[idx + 1] in skipwords):\n",
    "                continue\n",
    "            \n",
    "            # Swap the word with its adjacent word\n",
    "            original_token = words[idx]\n",
    "            swap_token = words[idx + 1]\n",
    "            \n",
    "            # Check if the word is at the beginning, and maintain proper case if necessary\n",
    "            if idx == 0:\n",
    "                # Capitalize swap token if needed\n",
    "                swap_token = original_token[0].upper() + swap_token[1:] if original_token[0].isupper() else swap_token\n",
    "                original_token = original_token.lower() if original_token[0].isupper() else original_token\n",
    "\n",
    "            # Perform swap\n",
    "            words[idx], words[idx + 1] = swap_token, original_token\n",
    "            change_seq += 1  # Increment change sequence\n",
    "\n",
    "        return words\n",
    "\n",
    "    def crop(words):\n",
    "        if len(words) < 2:\n",
    "            return words  # Skip if not enough words to crop\n",
    "        start_idx = random.randint(0, len(words) - aug_count)\n",
    "        end_idx = start_idx + aug_count\n",
    "        return words[:start_idx] + words[end_idx:]\n",
    "    \n",
    "    if action == Action.SUBSTITUTE:\n",
    "        words = substitute(words)\n",
    "    elif action == Action.DELETE:\n",
    "        words = delete(words)\n",
    "    elif action == Action.SWAP:\n",
    "        words = swap(words)\n",
    "    elif action == Action.CROP:\n",
    "        words = crop(words)\n",
    "    \n",
    "    augmented_words = ' '.join(words)\n",
    "    return original_sentence, augmented_words"
   ]
  },
  {
   "cell_type": "code",
   "execution_count": 69,
   "metadata": {},
   "outputs": [
    {
     "name": "stdout",
     "output_type": "stream",
     "text": [
      "('This is a simple example sentence for testing.', 'This is a simple awesome sentence for great')\n"
     ]
    }
   ],
   "source": [
    "text = \"This is a simple example sentence for testing.\"\n",
    "augmented_text = random_augment(text, action=Action.SUBSTITUTE, target_words=[\"awesome\", \"great\"])\n",
    "print(augmented_text)"
   ]
  },
  {
   "cell_type": "code",
   "execution_count": 70,
   "metadata": {},
   "outputs": [
    {
     "name": "stdout",
     "output_type": "stream",
     "text": [
      "('This is a simple example sentence for testing.', 'This is a example simple sentence testing. for')\n"
     ]
    }
   ],
   "source": [
    "text = \"This is a simple example sentence for testing.\"\n",
    "augmented_text = random_augment(text, action=Action.SWAP, target_words=[\"awesome\", \"great\"])\n",
    "print(augmented_text)"
   ]
  },
  {
   "cell_type": "code",
   "execution_count": 71,
   "metadata": {},
   "outputs": [
    {
     "name": "stdout",
     "output_type": "stream",
     "text": [
      "('This is a simple example sentence for testing.', 'This is a example sentence for')\n"
     ]
    }
   ],
   "source": [
    "text = \"This is a simple example sentence for testing.\"\n",
    "augmented_text = random_augment(text, action=Action.DELETE, target_words=[\"awesome\", \"great\"])\n",
    "print(augmented_text)"
   ]
  },
  {
   "cell_type": "code",
   "execution_count": 72,
   "metadata": {},
   "outputs": [
    {
     "name": "stdout",
     "output_type": "stream",
     "text": [
      "('This is a simple example sentence for testing.', 'This is a simple example testing.')\n"
     ]
    }
   ],
   "source": [
    "text = \"This is a simple example sentence for testing.\"\n",
    "augmented_text = random_augment(text, action=Action.CROP, target_words=[\"awesome\", \"great\"])\n",
    "print(augmented_text)"
   ]
  }
 ],
 "metadata": {
  "kernelspec": {
   "display_name": "sc4002-egHm7VgB-py3.12",
   "language": "python",
   "name": "python3"
  },
  "language_info": {
   "codemirror_mode": {
    "name": "ipython",
    "version": 3
   },
   "file_extension": ".py",
   "mimetype": "text/x-python",
   "name": "python",
   "nbconvert_exporter": "python",
   "pygments_lexer": "ipython3",
   "version": "3.12.1"
  }
 },
 "nbformat": 4,
 "nbformat_minor": 2
}
