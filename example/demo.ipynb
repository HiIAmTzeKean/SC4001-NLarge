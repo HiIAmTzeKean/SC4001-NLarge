{
 "cells": [
  {
   "cell_type": "code",
   "execution_count": 1,
   "metadata": {},
   "outputs": [
    {
     "name": "stdout",
     "output_type": "stream",
     "text": [
      "This film is highly recommended for every member of the household.\n"
     ]
    }
   ],
   "source": [
    "from NLarge.llm import LLMAugmenter\n",
    "\n",
    "llm_aug = LLMAugmenter()\n",
    "res = llm_aug.paraphrase_with_question(\"This movie is a must-watch for all the family.\")\n",
    "print(res)"
   ]
  },
  {
   "cell_type": "code",
   "execution_count": 2,
   "metadata": {},
   "outputs": [
    {
     "data": {
      "text/plain": [
       "('This is a simple example sentence for testing.',\n",
       " 'This a is simple example sentence testing. for')"
      ]
     },
     "execution_count": 2,
     "metadata": {},
     "output_type": "execute_result"
    }
   ],
   "source": [
    "from NLarge.random import RandomAugmenter\n",
    "from NLarge.random import Action\n",
    "\n",
    "random_aug = RandomAugmenter()\n",
    "random_aug(\"This is a simple example sentence for testing.\", action=Action.SWAP, target_words=[\"awesome\", \"great\"])"
   ]
  },
  {
   "cell_type": "code",
   "execution_count": 1,
   "metadata": {},
   "outputs": [
    {
     "data": {
      "text/plain": [
       "'The quick john_brown fox jumps all_over the lazy dog.'"
      ]
     },
     "execution_count": 1,
     "metadata": {},
     "output_type": "execute_result"
    }
   ],
   "source": [
    "from NLarge.synonym import SynonymAugmenter\n",
    "\n",
    "syn_aug = SynonymAugmenter()\n",
    "\n",
    "sample_text = \"The quick brown fox jumps over the lazy dog.\"\n",
    "syn_aug(sample_text, aug_src='wordnet', aug_p=0.3)"
   ]
  }
 ],
 "metadata": {
  "kernelspec": {
   "display_name": ".venv",
   "language": "python",
   "name": "python3"
  },
  "language_info": {
   "codemirror_mode": {
    "name": "ipython",
    "version": 3
   },
   "file_extension": ".py",
   "mimetype": "text/x-python",
   "name": "python",
   "nbconvert_exporter": "python",
   "pygments_lexer": "ipython3",
   "version": "3.12.7"
  }
 },
 "nbformat": 4,
 "nbformat_minor": 2
}
