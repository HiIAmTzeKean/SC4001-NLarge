{
 "cells": [
  {
   "cell_type": "markdown",
   "metadata": {},
   "source": [
    "# Performance of Random Swap Augmented Dataset on RNN"
   ]
  },
  {
   "cell_type": "markdown",
   "metadata": {},
   "source": [
    "## Import Libraries"
   ]
  },
  {
   "cell_type": "code",
   "execution_count": 1,
   "metadata": {},
   "outputs": [],
   "source": [
    "import datasets\n",
    "from datasets import Dataset, Features, Value, concatenate_datasets\n",
    "from dataset_concat import augment_data, MODE\n",
    "from rnn_pipeline import TextClassificationPipeline"
   ]
  },
  {
   "cell_type": "markdown",
   "metadata": {},
   "source": [
    "## Download and Prepare Rotten Tomatoes Dataset"
   ]
  },
  {
   "cell_type": "code",
   "execution_count": 2,
   "metadata": {},
   "outputs": [
    {
     "data": {
      "text/plain": [
       "{'text': 'the rock is destined to be the 21st century\\'s new \" conan \" and that he\\'s going to make a splash even greater than arnold schwarzenegger , jean-claud van damme or steven segal .',\n",
       " 'label': 1}"
      ]
     },
     "execution_count": 2,
     "metadata": {},
     "output_type": "execute_result"
    }
   ],
   "source": [
    "original_train_data, original_test_data = datasets.load_dataset(\"rotten_tomatoes\", split=[\"train\", \"test\"])\n",
    "\n",
    "features = Features({\n",
    "    \"text\": Value(\"string\"),\n",
    "    \"label\": Value(\"int64\")\n",
    "})\n",
    "original_train_data = Dataset.from_dict({\n",
    "    \"text\": original_train_data[\"text\"],\n",
    "    \"label\": original_train_data[\"label\"]\n",
    "}, features=features)\n",
    "\n",
    "original_train_data[0]"
   ]
  },
  {
   "cell_type": "markdown",
   "metadata": {},
   "source": [
    "## Augment Data set with 5%, 10%, 20% random"
   ]
  },
  {
   "cell_type": "markdown",
   "metadata": {},
   "source": [
    "Augmented datapoints are concatenated into the original dataset to increase the size by 5%, 10% and 20% respectively."
   ]
  },
  {
   "cell_type": "code",
   "execution_count": 3,
   "metadata": {},
   "outputs": [
    {
     "ename": "UnboundLocalError",
     "evalue": "cannot access local variable 'augmented_text' where it is not associated with a value",
     "output_type": "error",
     "traceback": [
      "\u001b[1;31m---------------------------------------------------------------------------\u001b[0m",
      "\u001b[1;31mUnboundLocalError\u001b[0m                         Traceback (most recent call last)",
      "Cell \u001b[1;32mIn[3], line 2\u001b[0m\n\u001b[0;32m      1\u001b[0m \u001b[38;5;66;03m# Augment by 5%, 10%, and 20%\u001b[39;00m\n\u001b[1;32m----> 2\u001b[0m augmented_llm_5 \u001b[38;5;241m=\u001b[39m \u001b[43maugment_data\u001b[49m\u001b[43m(\u001b[49m\u001b[43moriginal_train_data\u001b[49m\u001b[43m,\u001b[49m\u001b[43m \u001b[49m\u001b[38;5;241;43m0.05\u001b[39;49m\u001b[43m,\u001b[49m\u001b[43m \u001b[49m\u001b[43mMODE\u001b[49m\u001b[38;5;241;43m.\u001b[39;49m\u001b[43mLLM\u001b[49m\u001b[43m)\u001b[49m\n\u001b[0;32m      3\u001b[0m augmented_llm_10 \u001b[38;5;241m=\u001b[39m augment_data(original_train_data,  \u001b[38;5;241m0.10\u001b[39m, MODE\u001b[38;5;241m.\u001b[39mLLM)\n\u001b[0;32m      4\u001b[0m augmented_llm_20 \u001b[38;5;241m=\u001b[39m augment_data(original_train_data,  \u001b[38;5;241m0.20\u001b[39m, MODE\u001b[38;5;241m.\u001b[39mLLM)\n",
      "File \u001b[1;32mc:\\Users\\dexter\\Documents\\NN Group Assignment\\SC4001\\example\\dataset_concat.py:36\u001b[0m, in \u001b[0;36maugment_data\u001b[1;34m(dataset, percentage, mode)\u001b[0m\n\u001b[0;32m     34\u001b[0m     \u001b[38;5;28;01melif\u001b[39;00m (mode \u001b[38;5;241m==\u001b[39m \u001b[38;5;124m'\u001b[39m\u001b[38;5;124msynonym\u001b[39m\u001b[38;5;124m'\u001b[39m):\n\u001b[0;32m     35\u001b[0m         augmented_text \u001b[38;5;241m=\u001b[39m syn_aug(data[\u001b[38;5;124m\"\u001b[39m\u001b[38;5;124mtext\u001b[39m\u001b[38;5;124m\"\u001b[39m], aug_src\u001b[38;5;241m=\u001b[39m\u001b[38;5;124m'\u001b[39m\u001b[38;5;124mwordnet\u001b[39m\u001b[38;5;124m'\u001b[39m, aug_p\u001b[38;5;241m=\u001b[39m\u001b[38;5;241m0.3\u001b[39m)  \u001b[38;5;66;03m# Apply synonym augmenter\u001b[39;00m\n\u001b[1;32m---> 36\u001b[0m     augmented_samples\u001b[38;5;241m.\u001b[39mappend({\u001b[38;5;124m\"\u001b[39m\u001b[38;5;124mtext\u001b[39m\u001b[38;5;124m\"\u001b[39m: \u001b[43maugmented_text\u001b[49m, \u001b[38;5;124m\"\u001b[39m\u001b[38;5;124mlabel\u001b[39m\u001b[38;5;124m\"\u001b[39m: data[\u001b[38;5;124m\"\u001b[39m\u001b[38;5;124mlabel\u001b[39m\u001b[38;5;124m\"\u001b[39m]})\n\u001b[0;32m     37\u001b[0m \u001b[38;5;28;01mexcept\u001b[39;00m \u001b[38;5;167;01mValueError\u001b[39;00m \u001b[38;5;28;01mas\u001b[39;00m e:\n\u001b[0;32m     38\u001b[0m     \u001b[38;5;28mprint\u001b[39m(\u001b[38;5;124mf\u001b[39m\u001b[38;5;124m\"\u001b[39m\u001b[38;5;124mSkipping augmentation for text due to error: \u001b[39m\u001b[38;5;132;01m{\u001b[39;00me\u001b[38;5;132;01m}\u001b[39;00m\u001b[38;5;124m\"\u001b[39m)\n",
      "\u001b[1;31mUnboundLocalError\u001b[0m: cannot access local variable 'augmented_text' where it is not associated with a value"
     ]
    }
   ],
   "source": [
    "# Augment by 5%, 10%, and 20%\n",
    "augmented_llm_5 = augment_data(original_train_data, 0.05, MODE.LLM)\n",
    "augmented_llm_10 = augment_data(original_train_data,  0.10, MODE.LLM)\n",
    "augmented_llm_20 = augment_data(original_train_data,  0.20, MODE.LLM)\n",
    "\n",
    "# Convert augmented data into Datasets\n",
    "augmented_llm_5_dataset = Dataset.from_dict({\n",
    "    \"text\": [item[\"text\"] for item in augmented_llm_5],\n",
    "    \"label\": [item[\"label\"] for item in augmented_llm_5]\n",
    "}, features=features)\n",
    "\n",
    "augmented_llm_10_dataset = Dataset.from_dict({\n",
    "    \"text\": [item[\"text\"] for item in augmented_llm_10],\n",
    "    \"label\": [item[\"label\"] for item in augmented_llm_10]\n",
    "}, features=features)\n",
    "\n",
    "augmented_llm_20_dataset = Dataset.from_dict({\n",
    "    \"text\": [item[\"text\"] for item in augmented_llm_20],\n",
    "    \"label\": [item[\"label\"] for item in augmented_llm_20]\n",
    "}, features=features)\n",
    "\n",
    "# Concatenate original and augmented datasets\n",
    "augmented_llm_train_data_5 = concatenate_datasets([original_train_data, augmented_llm_5_dataset])\n",
    "augmented_llm_train_data_10 = concatenate_datasets([original_train_data, augmented_llm_10_dataset])\n",
    "augmented_llm_train_data_20 = concatenate_datasets([original_train_data, augmented_llm_20_dataset])\n",
    "\n",
    "print(f\"Original train size: {len(original_train_data)}\")\n",
    "print(f\"Train size after 5% augmentation: {len(augmented_llm_train_data_5)}\")\n",
    "print(f\"Train size after 10% augmentation: {len(augmented_llm_train_data_10)}\")\n",
    "print(f\"Train size after 20% augmentation: {len(augmented_llm_train_data_20)}\")"
   ]
  },
  {
   "cell_type": "markdown",
   "metadata": {},
   "source": [
    "## Using the Augmented Datasets on the Same RNN Text Classifier Pipeline"
   ]
  },
  {
   "cell_type": "code",
   "execution_count": 6,
   "metadata": {},
   "outputs": [
    {
     "data": {
      "application/vnd.jupyter.widget-view+json": {
       "model_id": "7ab507670e7044a89b3f430890d69afb",
       "version_major": 2,
       "version_minor": 0
      },
      "text/plain": [
       "Map:   0%|          | 0/8955 [00:00<?, ? examples/s]"
      ]
     },
     "metadata": {},
     "output_type": "display_data"
    },
    {
     "data": {
      "application/vnd.jupyter.widget-view+json": {
       "model_id": "6a1df8cc73bc4eeb8bce01e6cb699694",
       "version_major": 2,
       "version_minor": 0
      },
      "text/plain": [
       "Map:   0%|          | 0/1066 [00:00<?, ? examples/s]"
      ]
     },
     "metadata": {},
     "output_type": "display_data"
    },
    {
     "data": {
      "application/vnd.jupyter.widget-view+json": {
       "model_id": "c9e2c1d649c64a72acf5664c408817ff",
       "version_major": 2,
       "version_minor": 0
      },
      "text/plain": [
       "Map:   0%|          | 0/7164 [00:00<?, ? examples/s]"
      ]
     },
     "metadata": {},
     "output_type": "display_data"
    },
    {
     "data": {
      "application/vnd.jupyter.widget-view+json": {
       "model_id": "a28fd33f0a794600a94cec4a25d5265e",
       "version_major": 2,
       "version_minor": 0
      },
      "text/plain": [
       "Map:   0%|          | 0/1791 [00:00<?, ? examples/s]"
      ]
     },
     "metadata": {},
     "output_type": "display_data"
    },
    {
     "data": {
      "application/vnd.jupyter.widget-view+json": {
       "model_id": "e5676ef9bfb24a0bbf4b625548672de0",
       "version_major": 2,
       "version_minor": 0
      },
      "text/plain": [
       "Map:   0%|          | 0/1066 [00:00<?, ? examples/s]"
      ]
     },
     "metadata": {},
     "output_type": "display_data"
    },
    {
     "data": {
      "application/vnd.jupyter.widget-view+json": {
       "model_id": "ac3c0b007ede4157968ec787c1820b90",
       "version_major": 2,
       "version_minor": 0
      },
      "text/plain": [
       "Map:   0%|          | 0/9381 [00:00<?, ? examples/s]"
      ]
     },
     "metadata": {},
     "output_type": "display_data"
    },
    {
     "data": {
      "application/vnd.jupyter.widget-view+json": {
       "model_id": "3488ba3239374418ad28b0ebe3fd3780",
       "version_major": 2,
       "version_minor": 0
      },
      "text/plain": [
       "Map:   0%|          | 0/1066 [00:00<?, ? examples/s]"
      ]
     },
     "metadata": {},
     "output_type": "display_data"
    },
    {
     "data": {
      "application/vnd.jupyter.widget-view+json": {
       "model_id": "ffa455e06cf240adad76ae835ac9aa66",
       "version_major": 2,
       "version_minor": 0
      },
      "text/plain": [
       "Map:   0%|          | 0/7504 [00:00<?, ? examples/s]"
      ]
     },
     "metadata": {},
     "output_type": "display_data"
    },
    {
     "data": {
      "application/vnd.jupyter.widget-view+json": {
       "model_id": "27cbed855d394b5d9299668f016c4540",
       "version_major": 2,
       "version_minor": 0
      },
      "text/plain": [
       "Map:   0%|          | 0/1877 [00:00<?, ? examples/s]"
      ]
     },
     "metadata": {},
     "output_type": "display_data"
    },
    {
     "data": {
      "application/vnd.jupyter.widget-view+json": {
       "model_id": "a094c03612a94b43ac035a4bbce8385d",
       "version_major": 2,
       "version_minor": 0
      },
      "text/plain": [
       "Map:   0%|          | 0/1066 [00:00<?, ? examples/s]"
      ]
     },
     "metadata": {},
     "output_type": "display_data"
    },
    {
     "data": {
      "application/vnd.jupyter.widget-view+json": {
       "model_id": "1b37440634f24bdcaea388b38ff1bf82",
       "version_major": 2,
       "version_minor": 0
      },
      "text/plain": [
       "Map:   0%|          | 0/10233 [00:00<?, ? examples/s]"
      ]
     },
     "metadata": {},
     "output_type": "display_data"
    },
    {
     "data": {
      "application/vnd.jupyter.widget-view+json": {
       "model_id": "78dae5ffa2a44ca7b092c846eba111d5",
       "version_major": 2,
       "version_minor": 0
      },
      "text/plain": [
       "Map:   0%|          | 0/1066 [00:00<?, ? examples/s]"
      ]
     },
     "metadata": {},
     "output_type": "display_data"
    },
    {
     "data": {
      "application/vnd.jupyter.widget-view+json": {
       "model_id": "4efad96d9f094a0682c017c4c2354b7b",
       "version_major": 2,
       "version_minor": 0
      },
      "text/plain": [
       "Map:   0%|          | 0/8186 [00:00<?, ? examples/s]"
      ]
     },
     "metadata": {},
     "output_type": "display_data"
    },
    {
     "data": {
      "application/vnd.jupyter.widget-view+json": {
       "model_id": "5399cdd081b6425b8d2b03a2e00c0b08",
       "version_major": 2,
       "version_minor": 0
      },
      "text/plain": [
       "Map:   0%|          | 0/2047 [00:00<?, ? examples/s]"
      ]
     },
     "metadata": {},
     "output_type": "display_data"
    },
    {
     "data": {
      "application/vnd.jupyter.widget-view+json": {
       "model_id": "eca87abb09984170b5afd14d03e499f0",
       "version_major": 2,
       "version_minor": 0
      },
      "text/plain": [
       "Map:   0%|          | 0/1066 [00:00<?, ? examples/s]"
      ]
     },
     "metadata": {},
     "output_type": "display_data"
    }
   ],
   "source": [
    "pipeline_llm_5= TextClassificationPipeline(\n",
    "    augmented_data=augmented_llm_train_data_5, \n",
    "    test_data=original_test_data, \n",
    "    max_length=128, \n",
    "    test_size=0.2\n",
    ")\n",
    "pipeline_llm_10 = TextClassificationPipeline(\n",
    "    augmented_data=augmented_llm_train_data_10, \n",
    "    test_data=original_test_data, \n",
    "    max_length=128, \n",
    "    test_size=0.2\n",
    ")\n",
    "pipeline_llm_20 = TextClassificationPipeline(\n",
    "    augmented_data=augmented_llm_train_data_20, \n",
    "    test_data=original_test_data, \n",
    "    max_length=128, \n",
    "    test_size=0.2\n",
    ")\n"
   ]
  },
  {
   "cell_type": "markdown",
   "metadata": {},
   "source": [
    "## Model Training"
   ]
  },
  {
   "cell_type": "code",
   "execution_count": 7,
   "metadata": {},
   "outputs": [
    {
     "name": "stderr",
     "output_type": "stream",
     "text": [
      "training...: 100%|██████████| 14/14 [00:04<00:00,  2.86it/s]\n",
      "evaluating...: 100%|██████████| 4/4 [00:00<00:00, 13.09it/s]\n"
     ]
    },
    {
     "name": "stdout",
     "output_type": "stream",
     "text": [
      "Epoch: 1/10\n",
      "Train Loss: 0.654, Train Acc: 0.599\n",
      "Valid Loss: 0.598, Valid Acc: 0.679\n"
     ]
    },
    {
     "name": "stderr",
     "output_type": "stream",
     "text": [
      "training...: 100%|██████████| 14/14 [00:04<00:00,  3.01it/s]\n",
      "evaluating...: 100%|██████████| 4/4 [00:00<00:00, 12.17it/s]\n"
     ]
    },
    {
     "name": "stdout",
     "output_type": "stream",
     "text": [
      "Epoch: 2/10\n",
      "Train Loss: 0.558, Train Acc: 0.720\n",
      "Valid Loss: 0.557, Valid Acc: 0.717\n"
     ]
    },
    {
     "name": "stderr",
     "output_type": "stream",
     "text": [
      "training...: 100%|██████████| 14/14 [00:04<00:00,  2.99it/s]\n",
      "evaluating...: 100%|██████████| 4/4 [00:00<00:00, 13.18it/s]\n"
     ]
    },
    {
     "name": "stdout",
     "output_type": "stream",
     "text": [
      "Epoch: 3/10\n",
      "Train Loss: 0.491, Train Acc: 0.767\n",
      "Valid Loss: 0.544, Valid Acc: 0.716\n"
     ]
    },
    {
     "name": "stderr",
     "output_type": "stream",
     "text": [
      "training...: 100%|██████████| 14/14 [00:04<00:00,  3.02it/s]\n",
      "evaluating...: 100%|██████████| 4/4 [00:00<00:00, 12.36it/s]\n"
     ]
    },
    {
     "name": "stdout",
     "output_type": "stream",
     "text": [
      "Epoch: 4/10\n",
      "Train Loss: 0.458, Train Acc: 0.787\n",
      "Valid Loss: 0.536, Valid Acc: 0.736\n"
     ]
    },
    {
     "name": "stderr",
     "output_type": "stream",
     "text": [
      "training...: 100%|██████████| 14/14 [00:04<00:00,  2.98it/s]\n",
      "evaluating...: 100%|██████████| 4/4 [00:00<00:00, 12.28it/s]\n"
     ]
    },
    {
     "name": "stdout",
     "output_type": "stream",
     "text": [
      "Epoch: 5/10\n",
      "Train Loss: 0.402, Train Acc: 0.816\n",
      "Valid Loss: 0.559, Valid Acc: 0.734\n"
     ]
    },
    {
     "name": "stderr",
     "output_type": "stream",
     "text": [
      "training...: 100%|██████████| 14/14 [00:04<00:00,  3.10it/s]\n",
      "evaluating...: 100%|██████████| 4/4 [00:00<00:00, 12.54it/s]\n"
     ]
    },
    {
     "name": "stdout",
     "output_type": "stream",
     "text": [
      "Epoch: 6/10\n",
      "Train Loss: 0.354, Train Acc: 0.843\n",
      "Valid Loss: 0.592, Valid Acc: 0.730\n"
     ]
    },
    {
     "name": "stderr",
     "output_type": "stream",
     "text": [
      "training...: 100%|██████████| 14/14 [00:04<00:00,  2.91it/s]\n",
      "evaluating...: 100%|██████████| 4/4 [00:00<00:00, 12.80it/s]\n"
     ]
    },
    {
     "name": "stdout",
     "output_type": "stream",
     "text": [
      "Epoch: 7/10\n",
      "Train Loss: 0.314, Train Acc: 0.867\n",
      "Valid Loss: 0.621, Valid Acc: 0.730\n"
     ]
    },
    {
     "name": "stderr",
     "output_type": "stream",
     "text": [
      "training...: 100%|██████████| 14/14 [00:04<00:00,  2.87it/s]\n",
      "evaluating...: 100%|██████████| 4/4 [00:00<00:00, 12.48it/s]\n"
     ]
    },
    {
     "name": "stdout",
     "output_type": "stream",
     "text": [
      "Epoch: 8/10\n",
      "Train Loss: 0.265, Train Acc: 0.894\n",
      "Valid Loss: 0.690, Valid Acc: 0.721\n"
     ]
    },
    {
     "name": "stderr",
     "output_type": "stream",
     "text": [
      "training...: 100%|██████████| 14/14 [00:05<00:00,  2.64it/s]\n",
      "evaluating...: 100%|██████████| 4/4 [00:00<00:00, 12.75it/s]\n"
     ]
    },
    {
     "name": "stdout",
     "output_type": "stream",
     "text": [
      "Epoch: 9/10\n",
      "Train Loss: 0.207, Train Acc: 0.919\n",
      "Valid Loss: 0.815, Valid Acc: 0.721\n"
     ]
    },
    {
     "name": "stderr",
     "output_type": "stream",
     "text": [
      "training...: 100%|██████████| 14/14 [00:04<00:00,  2.89it/s]\n",
      "evaluating...: 100%|██████████| 4/4 [00:00<00:00, 10.20it/s]"
     ]
    },
    {
     "name": "stdout",
     "output_type": "stream",
     "text": [
      "Epoch: 10/10\n",
      "Train Loss: 0.155, Train Acc: 0.944\n",
      "Valid Loss: 0.953, Valid Acc: 0.722\n"
     ]
    },
    {
     "name": "stderr",
     "output_type": "stream",
     "text": [
      "\n"
     ]
    }
   ],
   "source": [
    "pipeline_llm_5.train_model(n_epochs=10)"
   ]
  },
  {
   "cell_type": "code",
   "execution_count": 8,
   "metadata": {},
   "outputs": [
    {
     "name": "stderr",
     "output_type": "stream",
     "text": [
      "training...: 100%|██████████| 15/15 [00:04<00:00,  3.03it/s]\n",
      "evaluating...: 100%|██████████| 4/4 [00:00<00:00, 10.40it/s]\n"
     ]
    },
    {
     "name": "stdout",
     "output_type": "stream",
     "text": [
      "Epoch: 1/10\n",
      "Train Loss: 0.647, Train Acc: 0.618\n",
      "Valid Loss: 0.611, Valid Acc: 0.676\n"
     ]
    },
    {
     "name": "stderr",
     "output_type": "stream",
     "text": [
      "training...: 100%|██████████| 15/15 [00:04<00:00,  3.05it/s]\n",
      "evaluating...: 100%|██████████| 4/4 [00:00<00:00, 12.32it/s]\n"
     ]
    },
    {
     "name": "stdout",
     "output_type": "stream",
     "text": [
      "Epoch: 2/10\n",
      "Train Loss: 0.543, Train Acc: 0.744\n",
      "Valid Loss: 0.558, Valid Acc: 0.706\n"
     ]
    },
    {
     "name": "stderr",
     "output_type": "stream",
     "text": [
      "training...: 100%|██████████| 15/15 [00:04<00:00,  3.17it/s]\n",
      "evaluating...: 100%|██████████| 4/4 [00:00<00:00, 10.99it/s]\n"
     ]
    },
    {
     "name": "stdout",
     "output_type": "stream",
     "text": [
      "Epoch: 3/10\n",
      "Train Loss: 0.478, Train Acc: 0.779\n",
      "Valid Loss: 0.549, Valid Acc: 0.718\n"
     ]
    },
    {
     "name": "stderr",
     "output_type": "stream",
     "text": [
      "training...: 100%|██████████| 15/15 [00:04<00:00,  3.12it/s]\n",
      "evaluating...: 100%|██████████| 4/4 [00:00<00:00, 12.19it/s]\n"
     ]
    },
    {
     "name": "stdout",
     "output_type": "stream",
     "text": [
      "Epoch: 4/10\n",
      "Train Loss: 0.429, Train Acc: 0.806\n",
      "Valid Loss: 0.560, Valid Acc: 0.724\n"
     ]
    },
    {
     "name": "stderr",
     "output_type": "stream",
     "text": [
      "training...: 100%|██████████| 15/15 [00:04<00:00,  3.17it/s]\n",
      "evaluating...: 100%|██████████| 4/4 [00:00<00:00, 12.59it/s]\n"
     ]
    },
    {
     "name": "stdout",
     "output_type": "stream",
     "text": [
      "Epoch: 5/10\n",
      "Train Loss: 0.379, Train Acc: 0.840\n",
      "Valid Loss: 0.578, Valid Acc: 0.735\n"
     ]
    },
    {
     "name": "stderr",
     "output_type": "stream",
     "text": [
      "training...: 100%|██████████| 15/15 [00:04<00:00,  3.18it/s]\n",
      "evaluating...: 100%|██████████| 4/4 [00:00<00:00, 12.52it/s]\n"
     ]
    },
    {
     "name": "stdout",
     "output_type": "stream",
     "text": [
      "Epoch: 6/10\n",
      "Train Loss: 0.331, Train Acc: 0.863\n",
      "Valid Loss: 0.594, Valid Acc: 0.724\n"
     ]
    },
    {
     "name": "stderr",
     "output_type": "stream",
     "text": [
      "training...: 100%|██████████| 15/15 [00:04<00:00,  3.02it/s]\n",
      "evaluating...: 100%|██████████| 4/4 [00:00<00:00, 11.20it/s]\n"
     ]
    },
    {
     "name": "stdout",
     "output_type": "stream",
     "text": [
      "Epoch: 7/10\n",
      "Train Loss: 0.279, Train Acc: 0.891\n",
      "Valid Loss: 0.662, Valid Acc: 0.732\n"
     ]
    },
    {
     "name": "stderr",
     "output_type": "stream",
     "text": [
      "training...: 100%|██████████| 15/15 [00:05<00:00,  2.98it/s]\n",
      "evaluating...: 100%|██████████| 4/4 [00:00<00:00, 11.42it/s]\n"
     ]
    },
    {
     "name": "stdout",
     "output_type": "stream",
     "text": [
      "Epoch: 8/10\n",
      "Train Loss: 0.235, Train Acc: 0.909\n",
      "Valid Loss: 0.682, Valid Acc: 0.731\n"
     ]
    },
    {
     "name": "stderr",
     "output_type": "stream",
     "text": [
      "training...: 100%|██████████| 15/15 [00:05<00:00,  2.86it/s]\n",
      "evaluating...: 100%|██████████| 4/4 [00:00<00:00, 11.76it/s]\n"
     ]
    },
    {
     "name": "stdout",
     "output_type": "stream",
     "text": [
      "Epoch: 9/10\n",
      "Train Loss: 0.181, Train Acc: 0.938\n",
      "Valid Loss: 0.818, Valid Acc: 0.714\n"
     ]
    },
    {
     "name": "stderr",
     "output_type": "stream",
     "text": [
      "training...: 100%|██████████| 15/15 [00:05<00:00,  2.90it/s]\n",
      "evaluating...: 100%|██████████| 4/4 [00:00<00:00, 12.23it/s]"
     ]
    },
    {
     "name": "stdout",
     "output_type": "stream",
     "text": [
      "Epoch: 10/10\n",
      "Train Loss: 0.144, Train Acc: 0.947\n",
      "Valid Loss: 0.925, Valid Acc: 0.731\n"
     ]
    },
    {
     "name": "stderr",
     "output_type": "stream",
     "text": [
      "\n"
     ]
    }
   ],
   "source": [
    "pipeline_llm_10.train_model(n_epochs=10)"
   ]
  },
  {
   "cell_type": "code",
   "execution_count": 9,
   "metadata": {},
   "outputs": [
    {
     "name": "stderr",
     "output_type": "stream",
     "text": [
      "training...: 100%|██████████| 16/16 [00:05<00:00,  3.03it/s]\n",
      "evaluating...: 100%|██████████| 4/4 [00:00<00:00, 10.15it/s]\n"
     ]
    },
    {
     "name": "stdout",
     "output_type": "stream",
     "text": [
      "Epoch: 1/10\n",
      "Train Loss: 0.665, Train Acc: 0.589\n",
      "Valid Loss: 0.591, Valid Acc: 0.705\n"
     ]
    },
    {
     "name": "stderr",
     "output_type": "stream",
     "text": [
      "training...: 100%|██████████| 16/16 [00:05<00:00,  3.11it/s]\n",
      "evaluating...: 100%|██████████| 4/4 [00:00<00:00, 10.90it/s]\n"
     ]
    },
    {
     "name": "stdout",
     "output_type": "stream",
     "text": [
      "Epoch: 2/10\n",
      "Train Loss: 0.558, Train Acc: 0.718\n",
      "Valid Loss: 0.556, Valid Acc: 0.730\n"
     ]
    },
    {
     "name": "stderr",
     "output_type": "stream",
     "text": [
      "training...: 100%|██████████| 16/16 [00:05<00:00,  3.02it/s]\n",
      "evaluating...: 100%|██████████| 4/4 [00:00<00:00, 11.44it/s]\n"
     ]
    },
    {
     "name": "stdout",
     "output_type": "stream",
     "text": [
      "Epoch: 3/10\n",
      "Train Loss: 0.489, Train Acc: 0.765\n",
      "Valid Loss: 0.524, Valid Acc: 0.742\n"
     ]
    },
    {
     "name": "stderr",
     "output_type": "stream",
     "text": [
      "training...: 100%|██████████| 16/16 [00:05<00:00,  3.10it/s]\n",
      "evaluating...: 100%|██████████| 4/4 [00:00<00:00, 11.30it/s]\n"
     ]
    },
    {
     "name": "stdout",
     "output_type": "stream",
     "text": [
      "Epoch: 4/10\n",
      "Train Loss: 0.431, Train Acc: 0.801\n",
      "Valid Loss: 0.527, Valid Acc: 0.752\n"
     ]
    },
    {
     "name": "stderr",
     "output_type": "stream",
     "text": [
      "training...: 100%|██████████| 16/16 [00:05<00:00,  3.00it/s]\n",
      "evaluating...: 100%|██████████| 4/4 [00:00<00:00, 11.67it/s]\n"
     ]
    },
    {
     "name": "stdout",
     "output_type": "stream",
     "text": [
      "Epoch: 5/10\n",
      "Train Loss: 0.379, Train Acc: 0.838\n",
      "Valid Loss: 0.534, Valid Acc: 0.753\n"
     ]
    },
    {
     "name": "stderr",
     "output_type": "stream",
     "text": [
      "training...: 100%|██████████| 16/16 [00:05<00:00,  2.92it/s]\n",
      "evaluating...: 100%|██████████| 4/4 [00:00<00:00, 11.20it/s]\n"
     ]
    },
    {
     "name": "stdout",
     "output_type": "stream",
     "text": [
      "Epoch: 6/10\n",
      "Train Loss: 0.327, Train Acc: 0.865\n",
      "Valid Loss: 0.548, Valid Acc: 0.744\n"
     ]
    },
    {
     "name": "stderr",
     "output_type": "stream",
     "text": [
      "training...: 100%|██████████| 16/16 [00:05<00:00,  2.83it/s]\n",
      "evaluating...: 100%|██████████| 4/4 [00:00<00:00,  9.91it/s]\n"
     ]
    },
    {
     "name": "stdout",
     "output_type": "stream",
     "text": [
      "Epoch: 7/10\n",
      "Train Loss: 0.282, Train Acc: 0.886\n",
      "Valid Loss: 0.627, Valid Acc: 0.759\n"
     ]
    },
    {
     "name": "stderr",
     "output_type": "stream",
     "text": [
      "training...: 100%|██████████| 16/16 [00:05<00:00,  2.87it/s]\n",
      "evaluating...: 100%|██████████| 4/4 [00:00<00:00, 10.81it/s]\n"
     ]
    },
    {
     "name": "stdout",
     "output_type": "stream",
     "text": [
      "Epoch: 8/10\n",
      "Train Loss: 0.221, Train Acc: 0.916\n",
      "Valid Loss: 0.666, Valid Acc: 0.744\n"
     ]
    },
    {
     "name": "stderr",
     "output_type": "stream",
     "text": [
      "training...: 100%|██████████| 16/16 [00:05<00:00,  2.92it/s]\n",
      "evaluating...: 100%|██████████| 4/4 [00:00<00:00, 10.07it/s]\n"
     ]
    },
    {
     "name": "stdout",
     "output_type": "stream",
     "text": [
      "Epoch: 9/10\n",
      "Train Loss: 0.180, Train Acc: 0.934\n",
      "Valid Loss: 0.779, Valid Acc: 0.751\n"
     ]
    },
    {
     "name": "stderr",
     "output_type": "stream",
     "text": [
      "training...: 100%|██████████| 16/16 [00:05<00:00,  2.80it/s]\n",
      "evaluating...: 100%|██████████| 4/4 [00:00<00:00, 10.51it/s]"
     ]
    },
    {
     "name": "stdout",
     "output_type": "stream",
     "text": [
      "Epoch: 10/10\n",
      "Train Loss: 0.130, Train Acc: 0.955\n",
      "Valid Loss: 0.883, Valid Acc: 0.744\n"
     ]
    },
    {
     "name": "stderr",
     "output_type": "stream",
     "text": [
      "\n"
     ]
    }
   ],
   "source": [
    "pipeline_llm_20.train_model(n_epochs=10)"
   ]
  },
  {
   "cell_type": "markdown",
   "metadata": {},
   "source": [
    "## Performance of Augmented Datasets"
   ]
  },
  {
   "cell_type": "code",
   "execution_count": 10,
   "metadata": {},
   "outputs": [
    {
     "data": {
      "image/png": "[encoded data removed]",
      "text/plain": [
       "<Figure size 1000x600 with 1 Axes>"
      ]
     },
     "metadata": {},
     "output_type": "display_data"
    },
    {
     "data": {
      "image/png": "[encoded data removed]",
      "text/plain": [
       "<Figure size 1000x600 with 1 Axes>"
      ]
     },
     "metadata": {},
     "output_type": "display_data"
    },
    {
     "data": {
      "image/png": "[encoded data removed]",
      "text/plain": [
       "<Figure size 1000x600 with 1 Axes>"
      ]
     },
     "metadata": {},
     "output_type": "display_data"
    }
   ],
   "source": [
    "# Plot the loss graph\n",
    "pipeline_llm_5.plot_loss()\n",
    "pipeline_llm_10.plot_loss()\n",
    "pipeline_llm_20.plot_loss()"
   ]
  }
 ],
 "metadata": {
  "kernelspec": {
   "display_name": "nlarge-egHm7VgB-py3.12",
   "language": "python",
   "name": "python3"
  },
  "language_info": {
   "codemirror_mode": {
    "name": "ipython",
    "version": 3
   },
   "file_extension": ".py",
   "mimetype": "text/x-python",
   "name": "python",
   "nbconvert_exporter": "python",
   "pygments_lexer": "ipython3",
   "version": "3.12.1"
  }
 },
 "nbformat": 4,
 "nbformat_minor": 2
}
