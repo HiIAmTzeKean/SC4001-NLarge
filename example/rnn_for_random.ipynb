{
 "cells": [
  {
   "cell_type": "code",
   "execution_count": 42,
   "metadata": {},
   "outputs": [],
   "source": [
    "import datasets\n",
    "from datasets import Dataset, Features, Value, concatenate_datasets\n",
    "from dataset_concat import augment_data, MODE\n",
    "from rnn_pipeline import TextClassificationPipeline"
   ]
  },
  {
   "cell_type": "code",
   "execution_count": 43,
   "metadata": {},
   "outputs": [
    {
     "data": {
      "text/plain": [
       "{'text': 'the rock is destined to be the 21st century\\'s new \" conan \" and that he\\'s going to make a splash even greater than arnold schwarzenegger , jean-claud van damme or steven segal .',\n",
       " 'label': 1}"
      ]
     },
     "execution_count": 43,
     "metadata": {},
     "output_type": "execute_result"
    }
   ],
   "source": [
    "original_train_data, original_test_data = datasets.load_dataset(\"rotten_tomatoes\", split=[\"train\", \"test\"])\n",
    "\n",
    "features = Features({\n",
    "    \"text\": Value(\"string\"),\n",
    "    \"label\": Value(\"int64\")\n",
    "})\n",
    "original_train_data = Dataset.from_dict({\n",
    "    \"text\": original_train_data[\"text\"],\n",
    "    \"label\": original_train_data[\"label\"]\n",
    "}, features=features)\n",
    "\n",
    "original_train_data[0]"
   ]
  },
  {
   "cell_type": "code",
   "execution_count": 45,
   "metadata": {},
   "outputs": [
    {
     "name": "stdout",
     "output_type": "stream",
     "text": [
      "Original train size: 8530\n",
      "Train size after 5% augmentation: 8956\n",
      "Train size after 10% augmentation: 9382\n",
      "Train size after 20% augmentation: 10235\n"
     ]
    }
   ],
   "source": [
    "# Augment by 5%, 10%, and 20%\n",
    "augmented_random_5 = augment_data(original_train_data, 0.05, MODE.RANDOM)\n",
    "augmented_random_10 = augment_data(original_train_data,  0.10, MODE.RANDOM)\n",
    "augmented_random_20 = augment_data(original_train_data,  0.20, MODE.RANDOM)\n",
    "\n",
    "# Convert augmented data into Datasets\n",
    "augmented_random_5_dataset = Dataset.from_dict({\n",
    "    \"text\": [item[\"text\"] for item in augmented_random_5],\n",
    "    \"label\": [item[\"label\"] for item in augmented_random_5]\n",
    "}, features=features)\n",
    "\n",
    "augmented_random_10_dataset = Dataset.from_dict({\n",
    "    \"text\": [item[\"text\"] for item in augmented_random_10],\n",
    "    \"label\": [item[\"label\"] for item in augmented_random_10]\n",
    "}, features=features)\n",
    "\n",
    "augmented_random_20_dataset = Dataset.from_dict({\n",
    "    \"text\": [item[\"text\"] for item in augmented_random_20],\n",
    "    \"label\": [item[\"label\"] for item in augmented_random_20]\n",
    "}, features=features)\n",
    "\n",
    "# Concatenate original and augmented datasets\n",
    "augmented_random_train_data_5 = concatenate_datasets([original_train_data, augmented_random_5_dataset])\n",
    "augmented_random_train_data_10 = concatenate_datasets([original_train_data, augmented_random_10_dataset])\n",
    "augmented_random_train_data_20 = concatenate_datasets([original_train_data, augmented_random_20_dataset])\n",
    "\n",
    "print(f\"Original train size: {len(original_train_data)}\")\n",
    "print(f\"Train size after 5% augmentation: {len(augmented_random_train_data_5)}\")\n",
    "print(f\"Train size after 10% augmentation: {len(augmented_random_train_data_10)}\")\n",
    "print(f\"Train size after 20% augmentation: {len(augmented_random_train_data_20)}\")"
   ]
  },
  {
   "cell_type": "code",
   "execution_count": 46,
   "metadata": {},
   "outputs": [
    {
     "data": {
      "application/vnd.jupyter.widget-view+json": {
       "model_id": "0aa09b9e621e47a4a9800b9648d33de7",
       "version_major": 2,
       "version_minor": 0
      },
      "text/plain": [
       "Map:   0%|          | 0/8956 [00:00<?, ? examples/s]"
      ]
     },
     "metadata": {},
     "output_type": "display_data"
    },
    {
     "data": {
      "application/vnd.jupyter.widget-view+json": {
       "model_id": "be1d791164d24a9fb11f6b636603e281",
       "version_major": 2,
       "version_minor": 0
      },
      "text/plain": [
       "Map:   0%|          | 0/1066 [00:00<?, ? examples/s]"
      ]
     },
     "metadata": {},
     "output_type": "display_data"
    },
    {
     "data": {
      "application/vnd.jupyter.widget-view+json": {
       "model_id": "f513b17572424ab1a392ac7cc400db7e",
       "version_major": 2,
       "version_minor": 0
      },
      "text/plain": [
       "Map:   0%|          | 0/7164 [00:00<?, ? examples/s]"
      ]
     },
     "metadata": {},
     "output_type": "display_data"
    },
    {
     "data": {
      "application/vnd.jupyter.widget-view+json": {
       "model_id": "776d05aa4ce14b2fbfdcf7de81b82c26",
       "version_major": 2,
       "version_minor": 0
      },
      "text/plain": [
       "Map:   0%|          | 0/1792 [00:00<?, ? examples/s]"
      ]
     },
     "metadata": {},
     "output_type": "display_data"
    },
    {
     "data": {
      "application/vnd.jupyter.widget-view+json": {
       "model_id": "153b8fa23b044ce3960e937f4920050c",
       "version_major": 2,
       "version_minor": 0
      },
      "text/plain": [
       "Map:   0%|          | 0/1066 [00:00<?, ? examples/s]"
      ]
     },
     "metadata": {},
     "output_type": "display_data"
    },
    {
     "data": {
      "application/vnd.jupyter.widget-view+json": {
       "model_id": "d21633e18b8d4f2b9734d976371ec7e8",
       "version_major": 2,
       "version_minor": 0
      },
      "text/plain": [
       "Map:   0%|          | 0/9382 [00:00<?, ? examples/s]"
      ]
     },
     "metadata": {},
     "output_type": "display_data"
    },
    {
     "data": {
      "application/vnd.jupyter.widget-view+json": {
       "model_id": "3f80eb82dae94f1ea7e87124970b9f51",
       "version_major": 2,
       "version_minor": 0
      },
      "text/plain": [
       "Map:   0%|          | 0/1066 [00:00<?, ? examples/s]"
      ]
     },
     "metadata": {},
     "output_type": "display_data"
    },
    {
     "data": {
      "application/vnd.jupyter.widget-view+json": {
       "model_id": "993fbe03a6a44288a8b15329b80af1e0",
       "version_major": 2,
       "version_minor": 0
      },
      "text/plain": [
       "Map:   0%|          | 0/7505 [00:00<?, ? examples/s]"
      ]
     },
     "metadata": {},
     "output_type": "display_data"
    },
    {
     "data": {
      "application/vnd.jupyter.widget-view+json": {
       "model_id": "df67d3a28bd844c5a76af15d8931aecf",
       "version_major": 2,
       "version_minor": 0
      },
      "text/plain": [
       "Map:   0%|          | 0/1877 [00:00<?, ? examples/s]"
      ]
     },
     "metadata": {},
     "output_type": "display_data"
    },
    {
     "data": {
      "application/vnd.jupyter.widget-view+json": {
       "model_id": "8eba0592ca994af08def57cd826337e1",
       "version_major": 2,
       "version_minor": 0
      },
      "text/plain": [
       "Map:   0%|          | 0/1066 [00:00<?, ? examples/s]"
      ]
     },
     "metadata": {},
     "output_type": "display_data"
    },
    {
     "data": {
      "application/vnd.jupyter.widget-view+json": {
       "model_id": "b37767b94ddb42a88e7dbdb9c51bac34",
       "version_major": 2,
       "version_minor": 0
      },
      "text/plain": [
       "Map:   0%|          | 0/10235 [00:00<?, ? examples/s]"
      ]
     },
     "metadata": {},
     "output_type": "display_data"
    },
    {
     "data": {
      "application/vnd.jupyter.widget-view+json": {
       "model_id": "2800983f2a0c47f8bf2c723a3c1658cf",
       "version_major": 2,
       "version_minor": 0
      },
      "text/plain": [
       "Map:   0%|          | 0/1066 [00:00<?, ? examples/s]"
      ]
     },
     "metadata": {},
     "output_type": "display_data"
    },
    {
     "data": {
      "application/vnd.jupyter.widget-view+json": {
       "model_id": "8663b7fa6027485fb1c9f19ddf31bc33",
       "version_major": 2,
       "version_minor": 0
      },
      "text/plain": [
       "Map:   0%|          | 0/8188 [00:00<?, ? examples/s]"
      ]
     },
     "metadata": {},
     "output_type": "display_data"
    },
    {
     "data": {
      "application/vnd.jupyter.widget-view+json": {
       "model_id": "9eaaeaa01e88473e872aaa67e88d655f",
       "version_major": 2,
       "version_minor": 0
      },
      "text/plain": [
       "Map:   0%|          | 0/2047 [00:00<?, ? examples/s]"
      ]
     },
     "metadata": {},
     "output_type": "display_data"
    },
    {
     "data": {
      "application/vnd.jupyter.widget-view+json": {
       "model_id": "40bcef378d03469b97778552ce7f2e83",
       "version_major": 2,
       "version_minor": 0
      },
      "text/plain": [
       "Map:   0%|          | 0/1066 [00:00<?, ? examples/s]"
      ]
     },
     "metadata": {},
     "output_type": "display_data"
    }
   ],
   "source": [
    "pipeline_random_5= TextClassificationPipeline(\n",
    "    augmented_data=augmented_random_train_data_5, \n",
    "    test_data=original_test_data, \n",
    "    max_length=128, \n",
    "    test_size=0.2\n",
    ")\n",
    "pipeline_random_10 = TextClassificationPipeline(\n",
    "    augmented_data=augmented_random_train_data_10, \n",
    "    test_data=original_test_data, \n",
    "    max_length=128, \n",
    "    test_size=0.2\n",
    ")\n",
    "pipeline_random_20 = TextClassificationPipeline(\n",
    "    augmented_data=augmented_random_train_data_20, \n",
    "    test_data=original_test_data, \n",
    "    max_length=128, \n",
    "    test_size=0.2\n",
    ")\n"
   ]
  },
  {
   "cell_type": "code",
   "execution_count": 47,
   "metadata": {},
   "outputs": [
    {
     "name": "stderr",
     "output_type": "stream",
     "text": [
      "training...: 100%|██████████| 14/14 [00:05<00:00,  2.42it/s]\n",
      "evaluating...: 100%|██████████| 4/4 [00:00<00:00, 10.29it/s]\n"
     ]
    },
    {
     "name": "stdout",
     "output_type": "stream",
     "text": [
      "Epoch: 1/10\n",
      "Train Loss: 0.654, Train Acc: 0.592\n",
      "Valid Loss: 0.600, Valid Acc: 0.671\n"
     ]
    },
    {
     "name": "stderr",
     "output_type": "stream",
     "text": [
      "training...: 100%|██████████| 14/14 [00:05<00:00,  2.59it/s]\n",
      "evaluating...: 100%|██████████| 4/4 [00:00<00:00, 12.14it/s]\n"
     ]
    },
    {
     "name": "stdout",
     "output_type": "stream",
     "text": [
      "Epoch: 2/10\n",
      "Train Loss: 0.573, Train Acc: 0.704\n",
      "Valid Loss: 0.587, Valid Acc: 0.688\n"
     ]
    },
    {
     "name": "stderr",
     "output_type": "stream",
     "text": [
      "training...: 100%|██████████| 14/14 [00:05<00:00,  2.64it/s]\n",
      "evaluating...: 100%|██████████| 4/4 [00:00<00:00, 12.47it/s]\n"
     ]
    },
    {
     "name": "stdout",
     "output_type": "stream",
     "text": [
      "Epoch: 3/10\n",
      "Train Loss: 0.517, Train Acc: 0.748\n",
      "Valid Loss: 0.520, Valid Acc: 0.740\n"
     ]
    },
    {
     "name": "stderr",
     "output_type": "stream",
     "text": [
      "training...: 100%|██████████| 14/14 [00:04<00:00,  2.92it/s]\n",
      "evaluating...: 100%|██████████| 4/4 [00:00<00:00, 12.21it/s]\n"
     ]
    },
    {
     "name": "stdout",
     "output_type": "stream",
     "text": [
      "Epoch: 4/10\n",
      "Train Loss: 0.459, Train Acc: 0.786\n",
      "Valid Loss: 0.505, Valid Acc: 0.750\n"
     ]
    },
    {
     "name": "stderr",
     "output_type": "stream",
     "text": [
      "training...: 100%|██████████| 14/14 [00:04<00:00,  2.98it/s]\n",
      "evaluating...: 100%|██████████| 4/4 [00:00<00:00, 12.62it/s]\n"
     ]
    },
    {
     "name": "stdout",
     "output_type": "stream",
     "text": [
      "Epoch: 5/10\n",
      "Train Loss: 0.412, Train Acc: 0.815\n",
      "Valid Loss: 0.529, Valid Acc: 0.749\n"
     ]
    },
    {
     "name": "stderr",
     "output_type": "stream",
     "text": [
      "training...: 100%|██████████| 14/14 [00:05<00:00,  2.80it/s]\n",
      "evaluating...: 100%|██████████| 4/4 [00:00<00:00, 10.45it/s]\n"
     ]
    },
    {
     "name": "stdout",
     "output_type": "stream",
     "text": [
      "Epoch: 6/10\n",
      "Train Loss: 0.371, Train Acc: 0.837\n",
      "Valid Loss: 0.616, Valid Acc: 0.706\n"
     ]
    },
    {
     "name": "stderr",
     "output_type": "stream",
     "text": [
      "training...: 100%|██████████| 14/14 [00:05<00:00,  2.64it/s]\n",
      "evaluating...: 100%|██████████| 4/4 [00:00<00:00, 10.73it/s]\n"
     ]
    },
    {
     "name": "stdout",
     "output_type": "stream",
     "text": [
      "Epoch: 7/10\n",
      "Train Loss: 0.328, Train Acc: 0.861\n",
      "Valid Loss: 0.638, Valid Acc: 0.739\n"
     ]
    },
    {
     "name": "stderr",
     "output_type": "stream",
     "text": [
      "training...: 100%|██████████| 14/14 [00:04<00:00,  2.82it/s]\n",
      "evaluating...: 100%|██████████| 4/4 [00:00<00:00, 12.09it/s]\n"
     ]
    },
    {
     "name": "stdout",
     "output_type": "stream",
     "text": [
      "Epoch: 8/10\n",
      "Train Loss: 0.265, Train Acc: 0.897\n",
      "Valid Loss: 0.683, Valid Acc: 0.726\n"
     ]
    },
    {
     "name": "stderr",
     "output_type": "stream",
     "text": [
      "training...: 100%|██████████| 14/14 [00:05<00:00,  2.70it/s]\n",
      "evaluating...: 100%|██████████| 4/4 [00:00<00:00, 11.71it/s]\n"
     ]
    },
    {
     "name": "stdout",
     "output_type": "stream",
     "text": [
      "Epoch: 9/10\n",
      "Train Loss: 0.227, Train Acc: 0.914\n",
      "Valid Loss: 0.749, Valid Acc: 0.733\n"
     ]
    },
    {
     "name": "stderr",
     "output_type": "stream",
     "text": [
      "training...: 100%|██████████| 14/14 [00:05<00:00,  2.37it/s]\n",
      "evaluating...: 100%|██████████| 4/4 [00:00<00:00,  9.69it/s]"
     ]
    },
    {
     "name": "stdout",
     "output_type": "stream",
     "text": [
      "Epoch: 10/10\n",
      "Train Loss: 0.173, Train Acc: 0.939\n",
      "Valid Loss: 0.899, Valid Acc: 0.730\n"
     ]
    },
    {
     "name": "stderr",
     "output_type": "stream",
     "text": [
      "\n"
     ]
    }
   ],
   "source": [
    "pipeline_random_5.train_model(n_epochs=10)"
   ]
  },
  {
   "cell_type": "code",
   "execution_count": 48,
   "metadata": {},
   "outputs": [
    {
     "name": "stderr",
     "output_type": "stream",
     "text": [
      "training...: 100%|██████████| 15/15 [00:06<00:00,  2.43it/s]\n",
      "evaluating...: 100%|██████████| 4/4 [00:00<00:00, 11.46it/s]\n"
     ]
    },
    {
     "name": "stdout",
     "output_type": "stream",
     "text": [
      "Epoch: 1/10\n",
      "Train Loss: 0.656, Train Acc: 0.590\n",
      "Valid Loss: 0.589, Valid Acc: 0.701\n"
     ]
    },
    {
     "name": "stderr",
     "output_type": "stream",
     "text": [
      "training...: 100%|██████████| 15/15 [00:05<00:00,  2.75it/s]\n",
      "evaluating...: 100%|██████████| 4/4 [00:00<00:00, 11.95it/s]\n"
     ]
    },
    {
     "name": "stdout",
     "output_type": "stream",
     "text": [
      "Epoch: 2/10\n",
      "Train Loss: 0.531, Train Acc: 0.737\n",
      "Valid Loss: 0.546, Valid Acc: 0.720\n"
     ]
    },
    {
     "name": "stderr",
     "output_type": "stream",
     "text": [
      "training...: 100%|██████████| 15/15 [00:05<00:00,  2.77it/s]\n",
      "evaluating...: 100%|██████████| 4/4 [00:00<00:00, 11.72it/s]\n"
     ]
    },
    {
     "name": "stdout",
     "output_type": "stream",
     "text": [
      "Epoch: 3/10\n",
      "Train Loss: 0.479, Train Acc: 0.774\n",
      "Valid Loss: 0.529, Valid Acc: 0.728\n"
     ]
    },
    {
     "name": "stderr",
     "output_type": "stream",
     "text": [
      "training...: 100%|██████████| 15/15 [00:05<00:00,  2.86it/s]\n",
      "evaluating...: 100%|██████████| 4/4 [00:00<00:00, 12.22it/s]\n"
     ]
    },
    {
     "name": "stdout",
     "output_type": "stream",
     "text": [
      "Epoch: 4/10\n",
      "Train Loss: 0.431, Train Acc: 0.804\n",
      "Valid Loss: 0.578, Valid Acc: 0.716\n"
     ]
    },
    {
     "name": "stderr",
     "output_type": "stream",
     "text": [
      "training...: 100%|██████████| 15/15 [00:05<00:00,  2.85it/s]\n",
      "evaluating...: 100%|██████████| 4/4 [00:00<00:00, 11.87it/s]\n"
     ]
    },
    {
     "name": "stdout",
     "output_type": "stream",
     "text": [
      "Epoch: 5/10\n",
      "Train Loss: 0.382, Train Acc: 0.835\n",
      "Valid Loss: 0.578, Valid Acc: 0.732\n"
     ]
    },
    {
     "name": "stderr",
     "output_type": "stream",
     "text": [
      "training...: 100%|██████████| 15/15 [00:05<00:00,  2.71it/s]\n",
      "evaluating...: 100%|██████████| 4/4 [00:00<00:00,  9.43it/s]\n"
     ]
    },
    {
     "name": "stdout",
     "output_type": "stream",
     "text": [
      "Epoch: 6/10\n",
      "Train Loss: 0.328, Train Acc: 0.865\n",
      "Valid Loss: 0.617, Valid Acc: 0.741\n"
     ]
    },
    {
     "name": "stderr",
     "output_type": "stream",
     "text": [
      "training...: 100%|██████████| 15/15 [00:06<00:00,  2.48it/s]\n",
      "evaluating...: 100%|██████████| 4/4 [00:00<00:00, 10.02it/s]\n"
     ]
    },
    {
     "name": "stdout",
     "output_type": "stream",
     "text": [
      "Epoch: 7/10\n",
      "Train Loss: 0.282, Train Acc: 0.888\n",
      "Valid Loss: 0.661, Valid Acc: 0.741\n"
     ]
    },
    {
     "name": "stderr",
     "output_type": "stream",
     "text": [
      "training...: 100%|██████████| 15/15 [00:05<00:00,  2.58it/s]\n",
      "evaluating...: 100%|██████████| 4/4 [00:00<00:00,  8.03it/s]\n"
     ]
    },
    {
     "name": "stdout",
     "output_type": "stream",
     "text": [
      "Epoch: 8/10\n",
      "Train Loss: 0.240, Train Acc: 0.909\n",
      "Valid Loss: 0.693, Valid Acc: 0.718\n"
     ]
    },
    {
     "name": "stderr",
     "output_type": "stream",
     "text": [
      "training...: 100%|██████████| 15/15 [00:05<00:00,  2.66it/s]\n",
      "evaluating...: 100%|██████████| 4/4 [00:00<00:00,  9.33it/s]\n"
     ]
    },
    {
     "name": "stdout",
     "output_type": "stream",
     "text": [
      "Epoch: 9/10\n",
      "Train Loss: 0.198, Train Acc: 0.929\n",
      "Valid Loss: 0.841, Valid Acc: 0.735\n"
     ]
    },
    {
     "name": "stderr",
     "output_type": "stream",
     "text": [
      "training...: 100%|██████████| 15/15 [00:05<00:00,  2.72it/s]\n",
      "evaluating...: 100%|██████████| 4/4 [00:00<00:00, 11.50it/s]"
     ]
    },
    {
     "name": "stdout",
     "output_type": "stream",
     "text": [
      "Epoch: 10/10\n",
      "Train Loss: 0.164, Train Acc: 0.943\n",
      "Valid Loss: 0.871, Valid Acc: 0.739\n"
     ]
    },
    {
     "name": "stderr",
     "output_type": "stream",
     "text": [
      "\n"
     ]
    }
   ],
   "source": [
    "pipeline_random_10.train_model(n_epochs=10)"
   ]
  },
  {
   "cell_type": "code",
   "execution_count": 49,
   "metadata": {},
   "outputs": [
    {
     "name": "stderr",
     "output_type": "stream",
     "text": [
      "training...: 100%|██████████| 16/16 [00:06<00:00,  2.65it/s]\n",
      "evaluating...: 100%|██████████| 4/4 [00:00<00:00,  9.03it/s]\n"
     ]
    },
    {
     "name": "stdout",
     "output_type": "stream",
     "text": [
      "Epoch: 1/10\n",
      "Train Loss: 0.652, Train Acc: 0.603\n",
      "Valid Loss: 0.626, Valid Acc: 0.628\n"
     ]
    },
    {
     "name": "stderr",
     "output_type": "stream",
     "text": [
      "training...: 100%|██████████| 16/16 [00:06<00:00,  2.51it/s]\n",
      "evaluating...: 100%|██████████| 4/4 [00:00<00:00,  9.98it/s]\n"
     ]
    },
    {
     "name": "stdout",
     "output_type": "stream",
     "text": [
      "Epoch: 2/10\n",
      "Train Loss: 0.543, Train Acc: 0.726\n",
      "Valid Loss: 0.509, Valid Acc: 0.748\n"
     ]
    },
    {
     "name": "stderr",
     "output_type": "stream",
     "text": [
      "training...: 100%|██████████| 16/16 [00:06<00:00,  2.61it/s]\n",
      "evaluating...: 100%|██████████| 4/4 [00:00<00:00, 10.27it/s]\n"
     ]
    },
    {
     "name": "stdout",
     "output_type": "stream",
     "text": [
      "Epoch: 3/10\n",
      "Train Loss: 0.486, Train Acc: 0.774\n",
      "Valid Loss: 0.512, Valid Acc: 0.757\n"
     ]
    },
    {
     "name": "stderr",
     "output_type": "stream",
     "text": [
      "training...: 100%|██████████| 16/16 [00:05<00:00,  2.67it/s]\n",
      "evaluating...: 100%|██████████| 4/4 [00:00<00:00, 10.15it/s]\n"
     ]
    },
    {
     "name": "stdout",
     "output_type": "stream",
     "text": [
      "Epoch: 4/10\n",
      "Train Loss: 0.438, Train Acc: 0.805\n",
      "Valid Loss: 0.509, Valid Acc: 0.768\n"
     ]
    },
    {
     "name": "stderr",
     "output_type": "stream",
     "text": [
      "training...: 100%|██████████| 16/16 [00:06<00:00,  2.62it/s]\n",
      "evaluating...: 100%|██████████| 4/4 [00:00<00:00,  8.21it/s]\n"
     ]
    },
    {
     "name": "stdout",
     "output_type": "stream",
     "text": [
      "Epoch: 5/10\n",
      "Train Loss: 0.379, Train Acc: 0.840\n",
      "Valid Loss: 0.522, Valid Acc: 0.762\n"
     ]
    },
    {
     "name": "stderr",
     "output_type": "stream",
     "text": [
      "training...: 100%|██████████| 16/16 [00:07<00:00,  2.21it/s]\n",
      "evaluating...: 100%|██████████| 4/4 [00:00<00:00,  8.58it/s]\n"
     ]
    },
    {
     "name": "stdout",
     "output_type": "stream",
     "text": [
      "Epoch: 6/10\n",
      "Train Loss: 0.330, Train Acc: 0.866\n",
      "Valid Loss: 0.525, Valid Acc: 0.776\n"
     ]
    },
    {
     "name": "stderr",
     "output_type": "stream",
     "text": [
      "training...: 100%|██████████| 16/16 [00:06<00:00,  2.43it/s]\n",
      "evaluating...: 100%|██████████| 4/4 [00:00<00:00,  9.71it/s]\n"
     ]
    },
    {
     "name": "stdout",
     "output_type": "stream",
     "text": [
      "Epoch: 7/10\n",
      "Train Loss: 0.289, Train Acc: 0.886\n",
      "Valid Loss: 0.597, Valid Acc: 0.757\n"
     ]
    },
    {
     "name": "stderr",
     "output_type": "stream",
     "text": [
      "training...: 100%|██████████| 16/16 [00:06<00:00,  2.57it/s]\n",
      "evaluating...: 100%|██████████| 4/4 [00:00<00:00,  9.90it/s]\n"
     ]
    },
    {
     "name": "stdout",
     "output_type": "stream",
     "text": [
      "Epoch: 8/10\n",
      "Train Loss: 0.234, Train Acc: 0.913\n",
      "Valid Loss: 0.644, Valid Acc: 0.780\n"
     ]
    },
    {
     "name": "stderr",
     "output_type": "stream",
     "text": [
      "training...: 100%|██████████| 16/16 [00:06<00:00,  2.65it/s]\n",
      "evaluating...: 100%|██████████| 4/4 [00:00<00:00, 10.32it/s]\n"
     ]
    },
    {
     "name": "stdout",
     "output_type": "stream",
     "text": [
      "Epoch: 9/10\n",
      "Train Loss: 0.176, Train Acc: 0.938\n",
      "Valid Loss: 0.692, Valid Acc: 0.758\n"
     ]
    },
    {
     "name": "stderr",
     "output_type": "stream",
     "text": [
      "training...: 100%|██████████| 16/16 [00:06<00:00,  2.60it/s]\n",
      "evaluating...: 100%|██████████| 4/4 [00:00<00:00, 10.26it/s]"
     ]
    },
    {
     "name": "stdout",
     "output_type": "stream",
     "text": [
      "Epoch: 10/10\n",
      "Train Loss: 0.137, Train Acc: 0.954\n",
      "Valid Loss: 0.784, Valid Acc: 0.757\n"
     ]
    },
    {
     "name": "stderr",
     "output_type": "stream",
     "text": [
      "\n"
     ]
    }
   ],
   "source": [
    "pipeline_random_20.train_model(n_epochs=10)"
   ]
  },
  {
   "cell_type": "code",
   "execution_count": 51,
   "metadata": {},
   "outputs": [
    {
     "data": {
      "image/png": "[encoded data removed]",
      "text/plain": [
       "<Figure size 1000x600 with 1 Axes>"
      ]
     },
     "metadata": {},
     "output_type": "display_data"
    },
    {
     "data": {
      "image/png": "[encoded data removed]",
      "text/plain": [
       "<Figure size 1000x600 with 1 Axes>"
      ]
     },
     "metadata": {},
     "output_type": "display_data"
    },
    {
     "data": {
      "image/png": "[encoded data removed]",
      "text/plain": [
       "<Figure size 1000x600 with 1 Axes>"
      ]
     },
     "metadata": {},
     "output_type": "display_data"
    }
   ],
   "source": [
    "# Plot the loss graph\n",
    "pipeline_random_5.plot_loss()\n",
    "pipeline_random_10.plot_loss()\n",
    "pipeline_random_20.plot_loss()"
   ]
  }
 ],
 "metadata": {
  "kernelspec": {
   "display_name": "nlarge-egHm7VgB-py3.12",
   "language": "python",
   "name": "python3"
  },
  "language_info": {
   "codemirror_mode": {
    "name": "ipython",
    "version": 3
   },
   "file_extension": ".py",
   "mimetype": "text/x-python",
   "name": "python",
   "nbconvert_exporter": "python",
   "pygments_lexer": "ipython3",
   "version": "3.12.1"
  }
 },
 "nbformat": 4,
 "nbformat_minor": 2
}
